{
 "cells": [
  {
   "cell_type": "code",
   "execution_count": 1,
   "metadata": {},
   "outputs": [],
   "source": [
    "import os\n",
    "from dotenv import load_dotenv\n",
    "from utils.api import HelpMeFindLawClient, HelpMeFindLawCompletionInput, HelpMeFindLawRetrievalInput\n",
    "\n",
    "load_dotenv()\n",
    "\n",
    "token = os.getenv(\"HMFL_API_KEY\")\n",
    "client = HelpMeFindLawClient(token=token)"
   ]
  },
  {
   "cell_type": "markdown",
   "metadata": {},
   "source": [
    "## Retrieval Endpoint"
   ]
  },
  {
   "cell_type": "code",
   "execution_count": 2,
   "metadata": {},
   "outputs": [],
   "source": [
    "data = client.retrieve(\n",
    "    HelpMeFindLawRetrievalInput(\n",
    "        prompt=\"What is the statute of limitations for a car accident in California?\"\n",
    "    )\n",
    ")\n",
    "data"
   ]
  },
  {
   "cell_type": "markdown",
   "metadata": {},
   "source": [
    "## Completion Endpoint"
   ]
  },
  {
   "cell_type": "code",
   "execution_count": 17,
   "metadata": {},
   "outputs": [
    {
     "data": {
      "text/plain": [
       "{'prompt': 'What is the penalty for drink driving in Orlando?',\n",
       " 'completion': 'The penalty for drink driving in Orlando, Florida is as follows:\\n- For a first conviction, a fine of not less than $500 or more than $1,000, and imprisonment for not more than 6 months.\\n- For a second conviction, a fine of not less than $1,000 or more than $2,000, and imprisonment for not more than 9 months. Additionally, there is mandatory placement of an ignition interlock device for at least 1 year.\\n- For a third conviction within 10 years of a prior conviction, it is considered a felony of the third degree, punishable by imprisonment as provided by law. There is also mandatory placement of an ignition interlock device for at least 2 years.\\n\\n',\n",
       " 'sources': [{'source_id': 'sQ1QSRwEYLge1Y-IPKpRAg==',\n",
       "   'ids': ['sQ1QSRwEYLge1Y-IPKpRAg==_0',\n",
       "    'sQ1QSRwEYLge1Y-IPKpRAg==_5',\n",
       "    'sQ1QSRwEYLge1Y-IPKpRAg==_1',\n",
       "    'sQ1QSRwEYLge1Y-IPKpRAg==_2',\n",
       "    'sQ1QSRwEYLge1Y-IPKpRAg==_3',\n",
       "    'sQ1QSRwEYLge1Y-IPKpRAg==_4',\n",
       "    'sQ1QSRwEYLge1Y-IPKpRAg==_9',\n",
       "    'sQ1QSRwEYLge1Y-IPKpRAg==_6',\n",
       "    'sQ1QSRwEYLge1Y-IPKpRAg==_7',\n",
       "    'sQ1QSRwEYLge1Y-IPKpRAg==_8',\n",
       "    'sQ1QSRwEYLge1Y-IPKpRAg==_10',\n",
       "    'sQ1QSRwEYLge1Y-IPKpRAg==_12',\n",
       "    'sQ1QSRwEYLge1Y-IPKpRAg==_13',\n",
       "    'sQ1QSRwEYLge1Y-IPKpRAg==_11',\n",
       "    'sQ1QSRwEYLge1Y-IPKpRAg==_14',\n",
       "    'sQ1QSRwEYLge1Y-IPKpRAg==_15',\n",
       "    'sQ1QSRwEYLge1Y-IPKpRAg==_16',\n",
       "    'sQ1QSRwEYLge1Y-IPKpRAg==_17',\n",
       "    'sQ1QSRwEYLge1Y-IPKpRAg==_18',\n",
       "    'sQ1QSRwEYLge1Y-IPKpRAg==_19',\n",
       "    'sQ1QSRwEYLge1Y-IPKpRAg==_20',\n",
       "    'sQ1QSRwEYLge1Y-IPKpRAg==_21',\n",
       "    'sQ1QSRwEYLge1Y-IPKpRAg==_22',\n",
       "    'sQ1QSRwEYLge1Y-IPKpRAg==_23',\n",
       "    'sQ1QSRwEYLge1Y-IPKpRAg==_24',\n",
       "    'sQ1QSRwEYLge1Y-IPKpRAg==_25'],\n",
       "   'reference': None,\n",
       "   'metadata': {'document_id': '3yH-k6E_Th5KpyN8CTQnxA==',\n",
       "    'document_title': '2022 Florida Statutes',\n",
       "    'document_citation': None,\n",
       "    'section_id': 'sQ1QSRwEYLge1Y-IPKpRAg==',\n",
       "    'section_title': 'Title XXIII - Motor Vehicles Chapter 316 - State Uniform Traffic Control316.193 - Driving Under the Influence; Penalties. Chapter 316 - State Uniform Traffic Control316.193 - Driving Under the Influence; Penalties.',\n",
       "    'section_citation': 'FL Stat § 316.193 (2022)',\n",
       "    'instrument': 'legislation',\n",
       "    'instrument_subtype': 'state_code',\n",
       "    'jurisdiction_id': 'J0209',\n",
       "    'jurisdiction': 'USA, Florida',\n",
       "    'country': 'usa',\n",
       "    'province': 'FL',\n",
       "    'other': None,\n",
       "    'created_at': None,\n",
       "    'source_id': 'sQ1QSRwEYLge1Y-IPKpRAg==',\n",
       "    'id': 'sQ1QSRwEYLge1Y-IPKpRAg==_0',\n",
       "    'document_html_url': 'https://law.justia.com/codes/florida/2022',\n",
       "    'document_pdf_url': None,\n",
       "    'section_html_url': 'https://law.justia.com/codes/florida/2022/title-xxiii/chapter-316/section-316-193/',\n",
       "    'section_pdf_url': None}}]}"
      ]
     },
     "execution_count": 17,
     "metadata": {},
     "output_type": "execute_result"
    }
   ],
   "source": [
    "data = client.completion(\n",
    "    HelpMeFindLawCompletionInput(\n",
    "        prompt=\"What is the penalty for drink driving in Orlando?\"\n",
    "    )\n",
    ")\n",
    "data"
   ]
  }
 ],
 "metadata": {
  "kernelspec": {
   "display_name": "Python 3",
   "language": "python",
   "name": "python3"
  },
  "language_info": {
   "codemirror_mode": {
    "name": "ipython",
    "version": 3
   },
   "file_extension": ".py",
   "mimetype": "text/x-python",
   "name": "python",
   "nbconvert_exporter": "python",
   "pygments_lexer": "ipython3",
   "version": "3.11.3"
  },
  "orig_nbformat": 4
 },
 "nbformat": 4,
 "nbformat_minor": 2
}
