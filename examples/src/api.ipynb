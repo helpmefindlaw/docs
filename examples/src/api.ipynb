{
 "cells": [
  {
   "cell_type": "code",
   "execution_count": 1,
   "metadata": {},
   "outputs": [],
   "source": [
    "import os\n",
    "from dotenv import load_dotenv\n",
    "from utils.api import HelpMeFindLawClient, HelpMeFindLawCompletionInput, HelpMeFindLawRetrievalInput\n",
    "\n",
    "load_dotenv()\n",
    "\n",
    "token = os.getenv(\"HMFL_API_KEY\")\n",
    "client = HelpMeFindLawClient(token=token)"
   ]
  },
  {
   "cell_type": "markdown",
   "metadata": {},
   "source": [
    "## Retrieval Endpoint"
   ]
  },
  {
   "cell_type": "code",
   "execution_count": 2,
   "metadata": {},
   "outputs": [
    {
     "data": {
      "text/plain": [
       "{'prompt': 'What is the statute of limitations for a car accident in California?',\n",
       " 'documents': [{'page_content': \"§431:10C-315 Statute of limitations. (a) No suit shall be brought on any contract providing motor vehicle insurance benefits or any contract providing optional additional coverage more than the later of:  (1) Two years from the date of the motor vehicle accident upon which the claim is based;  (2) Two years after the last payment of motor vehicle insurance benefits;  (3) Two years after the entry of a final order in arbitration;  (4) Two years after the entry of a final judgment in, or dismissal with prejudice of, a tort action arising out of a motor vehicle accident, where a cause of action for insurer bad faith arises out of the tort action; or  (5) Two years after payment of liability coverage, for underinsured motorist claims.  (b) No suit arising out of a motor vehicle accident shall be brought in tort more than the later of:  (1) Two years after the date of the motor vehicle accident upon which the claim is based;  (2) Two years after the date of the last payment of motor vehicle insurance or optional additional benefits; or  (3) Two years after the date of the last payment of workers' compensation or public assistance benefits arising from the motor vehicle accident. [L 1987, c 347, pt of §2; am L 1997, c 251, §49; am L 1998, c 275, §28] Case Notes  Section requires suit for breach of contract to be filed within two years after receipt by claimant of last benefit payment. 794 F. Supp. 1012 (1992).  Summary judgment granted in favor of defendant with\",\n",
       "   'metadata': {'id': '1YfGwyqBGsxyAif6Nj1EPg==_0',\n",
       "    'other': None,\n",
       "    'country': 'usa',\n",
       "    'province': 'HI',\n",
       "    'source_id': '1YfGwyqBGsxyAif6Nj1EPg==',\n",
       "    'instrument': 'legislation',\n",
       "    'section_id': '1YfGwyqBGsxyAif6Nj1EPg==',\n",
       "    'document_id': 'bOAfO20EaTs4dUgSCDZ8FQ==',\n",
       "    'jurisdiction': 'USA, Hawaii',\n",
       "    'section_title': 'Title 24. Insurance431. Insurance Code431:10C-315 Statute of limitations. Title 24. Insurance431. Insurance Code431:10C-315 Statute of limitations.',\n",
       "    'document_title': '2022 Hawaii Revised Statutes',\n",
       "    'jurisdiction_id': 'J0213',\n",
       "    'section_citation': 'HI Rev Stat § 431:10C-315 (2022)',\n",
       "    'document_citation': None,\n",
       "    'instrument_subtype': 'state_code'}},\n",
       "  {'page_content': \"public assistance benefits arising from the motor vehicle accident. [L 1987, c 347, pt of §2; am L 1997, c 251, §49; am L 1998, c 275, §28] Case Notes  Section requires suit for breach of contract to be filed within two years after receipt by claimant of last benefit payment. 794 F. Supp. 1012 (1992).  Summary judgment granted in favor of defendant with respect to any claim seeking to recover underinsured motorist benefits under automobile insurance policy, where any claim regarding underinsured motorist benefits, including the bad faith denial thereof, was barred by the limitations period set forth in this section (pre-1997 amendment). 11 F. Supp. 2d 1204 (1998).  Controlling date for the purpose of calculating the statute of limitations for plaintiff's claims of tortious breach of contract and bad faith denial of insurance benefits was two years after the last payment of motor vehicle insurance benefits; the date of plaintiff's receipt of payment, within three days of the date on which the payment was mailed, was the date on which the statute of limitations began to run. 520 F. Supp. 2d 1212 (2007).  Based on the plain language of subsection (a)(2) (1993), plaintiff's claim for no-fault benefits was not barred, where the last payment of no-fault or optional additional benefits was made not more than two years before plaintiff filed complaint against insurer. 109 H. 537, 128 P.3d 850 (2006).  Where the question of whether the underinsured\",\n",
       "   'metadata': {'id': '1YfGwyqBGsxyAif6Nj1EPg==_1',\n",
       "    'other': None,\n",
       "    'country': 'usa',\n",
       "    'province': 'HI',\n",
       "    'source_id': '1YfGwyqBGsxyAif6Nj1EPg==',\n",
       "    'instrument': 'legislation',\n",
       "    'section_id': '1YfGwyqBGsxyAif6Nj1EPg==',\n",
       "    'document_id': 'bOAfO20EaTs4dUgSCDZ8FQ==',\n",
       "    'jurisdiction': 'USA, Hawaii',\n",
       "    'section_title': 'Title 24. Insurance431. Insurance Code431:10C-315 Statute of limitations. Title 24. Insurance431. Insurance Code431:10C-315 Statute of limitations.',\n",
       "    'document_title': '2022 Hawaii Revised Statutes',\n",
       "    'jurisdiction_id': 'J0213',\n",
       "    'section_citation': 'HI Rev Stat § 431:10C-315 (2022)',\n",
       "    'document_citation': None,\n",
       "    'instrument_subtype': 'state_code'}},\n",
       "  {'page_content': '20008. (a)\\xa0The driver of a vehicle, other than a common carrier vehicle, involved in any accident resulting in injuries to or death of any person shall within 24 hours after the accident make or cause to be made a written report of the accident to the Department of the California Highway Patrol or, if the accident occurred within a city, to either the Department of the California Highway Patrol or the police department of the city in which the accident occurred. If the agency which receives the report is not responsible for investigating the accident, it shall immediately forward the report to the law enforcement agency which is responsible for investigating the accident.On or before the fifth day of each month, every police department which received a report during the previous calendar month of an accident which it is responsible for investigating shall forward the report or a copy thereof to the main office of the Department of the California Highway Patrol at Sacramento.(b)\\xa0The owner or driver of a common carrier vehicle involved in any such accident shall make a like report to the Department of California Highway Patrol on or before the 10th day of the month following the accident.(Amended by Stats. 1970, Ch. 224.)',\n",
       "   'metadata': {'id': 'wLJdPOmT5eINHclUUNyi5g==_0',\n",
       "    'other': None,\n",
       "    'country': 'usa',\n",
       "    'province': 'CA',\n",
       "    'source_id': 'wLJdPOmT5eINHclUUNyi5g==',\n",
       "    'instrument': 'legislation',\n",
       "    'section_id': 'wLJdPOmT5eINHclUUNyi5g==',\n",
       "    'document_id': 'Oz7dwX_QD8BLlP3CDz4gUw==',\n",
       "    'jurisdiction': 'USA, California',\n",
       "    'section_title': 'Vehicle Code - VEHDIVISION 10 - ACCIDENTS AND ACCIDENT REPORTSCHAPTER 1 - Accidents and Accident Reports Section 20008. Section 20008.',\n",
       "    'document_title': '2022 California Code',\n",
       "    'jurisdiction_id': 'J0205',\n",
       "    'section_citation': 'CA Veh Code § 20008 (2022)',\n",
       "    'document_citation': None,\n",
       "    'instrument_subtype': 'state_code'}},\n",
       "  {'page_content': \"F. Supp. 2d 1212 (2007).  Based on the plain language of subsection (a)(2) (1993), plaintiff's claim for no-fault benefits was not barred, where the last payment of no-fault or optional additional benefits was made not more than two years before plaintiff filed complaint against insurer. 109 H. 537, 128 P.3d 850 (2006).  Where the question of whether the underinsured motorist benefits settlement from non-party insurer would trigger the two-year statute of limitations under subsection (a) (1993) for plaintiff's claim against defendant insurer was an open question of law until this case, there was no bad faith on the part of defendant insurer for having denied plaintiff's claim for no-fault benefits on the basis of the statute of limitations. 109 H. 537, 128 P.3d 850 (2006).  Where plaintiff's negligence action was filed more than two years after insurance company made its lump sum payment to plaintiff in full satisfaction of the release, plaintiff's suit was time-barred. 105 H. 66 (App.), 93 P.3d 1173 (2004).  The doctrine of equitable tolling cannot be applied to expand the two-year statute of limitations period in this section (1993) based solely on an issuer's failure to provide a formal notice of denial required pursuant to §431:10C-304(3) (1993) in conjunction with a reduced or partial payment. 117 H. 502 (App.), 184 P.3d 817 (2008).\",\n",
       "   'metadata': {'id': '1YfGwyqBGsxyAif6Nj1EPg==_2',\n",
       "    'other': None,\n",
       "    'country': 'usa',\n",
       "    'province': 'HI',\n",
       "    'source_id': '1YfGwyqBGsxyAif6Nj1EPg==',\n",
       "    'instrument': 'legislation',\n",
       "    'section_id': '1YfGwyqBGsxyAif6Nj1EPg==',\n",
       "    'document_id': 'bOAfO20EaTs4dUgSCDZ8FQ==',\n",
       "    'jurisdiction': 'USA, Hawaii',\n",
       "    'section_title': 'Title 24. Insurance431. Insurance Code431:10C-315 Statute of limitations. Title 24. Insurance431. Insurance Code431:10C-315 Statute of limitations.',\n",
       "    'document_title': '2022 Hawaii Revised Statutes',\n",
       "    'jurisdiction_id': 'J0213',\n",
       "    'section_citation': 'HI Rev Stat § 431:10C-315 (2022)',\n",
       "    'document_citation': None,\n",
       "    'instrument_subtype': 'state_code'}},\n",
       "  {'page_content': 'of § 23-66-502 involving a motor vehicle purposely used to cause a motor vehicle accident for the purpose of filing an insurance claim.    (ii) If a prosecution could not be commenced within the time period prescribed by subdivision (b)(2)(B)(i) of this section because it was not reasonably possible to discover the alleged fraud at the time of the violation, the time period prescribed shall be extended for a period of three (3) years.  (iii) The period of limitation under this subdivision (b)(2)(B) may not extend more than ten (10) years after the date of the violation of § 23-66-502;      (3)  (A) Misdemeanor or violation, one (1) year.  (B) However:  (i) For failure to notify by a mandated reporter in the first degree, § 12-18-201, and failure to notify by a mandated reporter in the second degree, § 12-18-202, the period of limitation is ten (10) years after the child victim reaches eighteen (18) years of age if the child in question was subject to child maltreatment; and  (ii) For a nine-point or greater violation of an Arkansas State Game and Fish Commission regulation or rule, the period of limitation is three (3) years; and      (4) Municipal ordinance violation, one (1) year unless a different period of time not to exceed three (3) years is set by ordinance of the municipal government.    (c) If the period prescribed in subsection (b) of this section has expired, a prosecution may',\n",
       "   'metadata': {'id': 'TQvyPexH0ZOPpxNPKZASlA==_3',\n",
       "    'other': None,\n",
       "    'country': 'usa',\n",
       "    'province': 'AR',\n",
       "    'source_id': 'TQvyPexH0ZOPpxNPKZASlA==',\n",
       "    'instrument': 'legislation',\n",
       "    'section_id': 'TQvyPexH0ZOPpxNPKZASlA==',\n",
       "    'document_id': 'KdWELexeBp1tIiBTJrdg5w==',\n",
       "    'jurisdiction': 'USA, Arkansas',\n",
       "    'section_title': 'Title 5 - Criminal Offenses Subtitle 1 - General Provisions Chapter 1 - General Provisions § 5-1-109. Statute of limitations',\n",
       "    'document_title': '2020 Arkansas Code',\n",
       "    'jurisdiction_id': 'J0204',\n",
       "    'section_citation': 'AR Code § 5-1-109 (2020)',\n",
       "    'document_citation': None,\n",
       "    'instrument_subtype': 'state_code'}}]}"
      ]
     },
     "execution_count": 2,
     "metadata": {},
     "output_type": "execute_result"
    }
   ],
   "source": [
    "data = client.retrieve(\n",
    "    HelpMeFindLawRetrievalInput(\n",
    "        prompt=\"What is the statute of limitations for a car accident in California?\"\n",
    "    )\n",
    ")\n",
    "data"
   ]
  },
  {
   "cell_type": "markdown",
   "metadata": {},
   "source": [
    "## Completion Endpoint"
   ]
  },
  {
   "cell_type": "code",
   "execution_count": 17,
   "metadata": {},
   "outputs": [
    {
     "data": {
      "text/plain": [
       "{'prompt': 'What is the penalty for drink driving in Orlando?',\n",
       " 'completion': 'The penalty for drink driving in Orlando, Florida is as follows:\\n- For a first conviction, a fine of not less than $500 or more than $1,000, and imprisonment for not more than 6 months.\\n- For a second conviction, a fine of not less than $1,000 or more than $2,000, and imprisonment for not more than 9 months. Additionally, there is mandatory placement of an ignition interlock device for at least 1 year.\\n- For a third conviction within 10 years of a prior conviction, it is considered a felony of the third degree, punishable by imprisonment as provided by law. There is also mandatory placement of an ignition interlock device for at least 2 years.\\n\\n',\n",
       " 'sources': [{'source_id': 'sQ1QSRwEYLge1Y-IPKpRAg==',\n",
       "   'ids': ['sQ1QSRwEYLge1Y-IPKpRAg==_0',\n",
       "    'sQ1QSRwEYLge1Y-IPKpRAg==_5',\n",
       "    'sQ1QSRwEYLge1Y-IPKpRAg==_1',\n",
       "    'sQ1QSRwEYLge1Y-IPKpRAg==_2',\n",
       "    'sQ1QSRwEYLge1Y-IPKpRAg==_3',\n",
       "    'sQ1QSRwEYLge1Y-IPKpRAg==_4',\n",
       "    'sQ1QSRwEYLge1Y-IPKpRAg==_9',\n",
       "    'sQ1QSRwEYLge1Y-IPKpRAg==_6',\n",
       "    'sQ1QSRwEYLge1Y-IPKpRAg==_7',\n",
       "    'sQ1QSRwEYLge1Y-IPKpRAg==_8',\n",
       "    'sQ1QSRwEYLge1Y-IPKpRAg==_10',\n",
       "    'sQ1QSRwEYLge1Y-IPKpRAg==_12',\n",
       "    'sQ1QSRwEYLge1Y-IPKpRAg==_13',\n",
       "    'sQ1QSRwEYLge1Y-IPKpRAg==_11',\n",
       "    'sQ1QSRwEYLge1Y-IPKpRAg==_14',\n",
       "    'sQ1QSRwEYLge1Y-IPKpRAg==_15',\n",
       "    'sQ1QSRwEYLge1Y-IPKpRAg==_16',\n",
       "    'sQ1QSRwEYLge1Y-IPKpRAg==_17',\n",
       "    'sQ1QSRwEYLge1Y-IPKpRAg==_18',\n",
       "    'sQ1QSRwEYLge1Y-IPKpRAg==_19',\n",
       "    'sQ1QSRwEYLge1Y-IPKpRAg==_20',\n",
       "    'sQ1QSRwEYLge1Y-IPKpRAg==_21',\n",
       "    'sQ1QSRwEYLge1Y-IPKpRAg==_22',\n",
       "    'sQ1QSRwEYLge1Y-IPKpRAg==_23',\n",
       "    'sQ1QSRwEYLge1Y-IPKpRAg==_24',\n",
       "    'sQ1QSRwEYLge1Y-IPKpRAg==_25'],\n",
       "   'reference': None,\n",
       "   'metadata': {'document_id': '3yH-k6E_Th5KpyN8CTQnxA==',\n",
       "    'document_title': '2022 Florida Statutes',\n",
       "    'document_citation': None,\n",
       "    'section_id': 'sQ1QSRwEYLge1Y-IPKpRAg==',\n",
       "    'section_title': 'Title XXIII - Motor Vehicles Chapter 316 - State Uniform Traffic Control316.193 - Driving Under the Influence; Penalties. Chapter 316 - State Uniform Traffic Control316.193 - Driving Under the Influence; Penalties.',\n",
       "    'section_citation': 'FL Stat § 316.193 (2022)',\n",
       "    'instrument': 'legislation',\n",
       "    'instrument_subtype': 'state_code',\n",
       "    'jurisdiction_id': 'J0209',\n",
       "    'jurisdiction': 'USA, Florida',\n",
       "    'country': 'usa',\n",
       "    'province': 'FL',\n",
       "    'other': None,\n",
       "    'created_at': None,\n",
       "    'source_id': 'sQ1QSRwEYLge1Y-IPKpRAg==',\n",
       "    'id': 'sQ1QSRwEYLge1Y-IPKpRAg==_0',\n",
       "    'document_html_url': 'https://law.justia.com/codes/florida/2022',\n",
       "    'document_pdf_url': None,\n",
       "    'section_html_url': 'https://law.justia.com/codes/florida/2022/title-xxiii/chapter-316/section-316-193/',\n",
       "    'section_pdf_url': None}}]}"
      ]
     },
     "execution_count": 17,
     "metadata": {},
     "output_type": "execute_result"
    }
   ],
   "source": [
    "data = client.completion(\n",
    "    HelpMeFindLawCompletionInput(\n",
    "        prompt=\"What is the penalty for drink driving in Orlando?\"\n",
    "    )\n",
    ")\n",
    "data"
   ]
  }
 ],
 "metadata": {
  "kernelspec": {
   "display_name": "Python 3",
   "language": "python",
   "name": "python3"
  },
  "language_info": {
   "codemirror_mode": {
    "name": "ipython",
    "version": 3
   },
   "file_extension": ".py",
   "mimetype": "text/x-python",
   "name": "python",
   "nbconvert_exporter": "python",
   "pygments_lexer": "ipython3",
   "version": "3.11.3"
  },
  "orig_nbformat": 4
 },
 "nbformat": 4,
 "nbformat_minor": 2
}
