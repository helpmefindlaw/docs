{
 "cells": [
  {
   "cell_type": "code",
   "execution_count": 15,
   "metadata": {},
   "outputs": [],
   "source": [
    "import os\n",
    "from dotenv import load_dotenv\n",
    "from utils.api import HelpMeFindLawClient, HelpMeFindLawCompletionInput, HelpMeFindLawRetrievalInput\n",
    "\n",
    "load_dotenv()\n",
    "\n",
    "token = os.getenv(\"HMFL_API_KEY\")\n",
    "client = HelpMeFindLawClient(token=token)"
   ]
  },
  {
   "cell_type": "markdown",
   "metadata": {},
   "source": [
    "## Retrieval Endpoint"
   ]
  },
  {
   "cell_type": "code",
   "execution_count": 16,
   "metadata": {},
   "outputs": [
    {
     "data": {
      "text/plain": [
       "{'prompt': 'What is the statute of limitations for a car accident in California?',\n",
       " 'documents': [{'page_content': '20008. (a)\\xa0The driver of a vehicle, other than a common carrier vehicle, involved in any accident resulting in injuries to or death of any person shall within 24 hours after the accident make or cause to be made a written report of the accident to the Department of the California Highway Patrol or, if the accident occurred within a city, to either the Department of the California Highway Patrol or the police department of the city in which the accident occurred. If the agency which receives the report is not responsible for investigating the accident, it shall immediately forward the report to the law enforcement agency which is responsible for investigating the accident.On or before the fifth day of each month, every police department which received a report during the previous calendar month of an accident which it is responsible for investigating shall forward the report or a copy thereof to the main office of the Department of the California Highway Patrol at Sacramento.(b)\\xa0The owner or driver of a common carrier vehicle involved in any such accident shall make a like report to the Department of California Highway Patrol on or before the 10th day of the month following the accident.(Amended by Stats. 1970, Ch. 224.)',\n",
       "   'metadata': {'id': 'wLJdPOmT5eINHclUUNyi5g==_0',\n",
       "    'other': None,\n",
       "    'country': 'usa',\n",
       "    'province': 'CA',\n",
       "    'source_id': 'wLJdPOmT5eINHclUUNyi5g==',\n",
       "    'instrument': 'legislation',\n",
       "    'section_id': 'wLJdPOmT5eINHclUUNyi5g==',\n",
       "    'document_id': 'Oz7dwX_QD8BLlP3CDz4gUw==',\n",
       "    'jurisdiction': 'USA, California',\n",
       "    'section_title': 'Vehicle Code - VEHDIVISION 10 - ACCIDENTS AND ACCIDENT REPORTSCHAPTER 1 - Accidents and Accident Reports Section 20008. Section 20008.',\n",
       "    'document_title': '2022 California Code',\n",
       "    'jurisdiction_id': 'J0205',\n",
       "    'section_citation': 'CA Veh Code § 20008 (2022)',\n",
       "    'document_citation': None,\n",
       "    'instrument_subtype': 'state_code'}},\n",
       "  {'page_content': '16000. (a)\\xa0The driver of a motor vehicle who is in any manner involved in an accident originating from the operation of the motor vehicle on a street or highway, or is involved in a reportable off-highway accident, as defined in Section 16000.1, that has resulted in damage to the property of any one person in excess of one thousand dollars ($1,000), or in bodily injury, or in the death of any person shall report the accident, within 10 days after the accident, either personally or through an insurance agent, broker, or legal representative, on a form approved by the department, to the office of the department at Sacramento, subject to this chapter. The driver shall identify on the form, by name and current residence address, if available, any person involved in the accident complaining of bodily injury.(b)\\xa0A report is not required under subdivision (a) if the motor vehicle involved in the accident was owned or leased by, or under the direction of, the United States, this state, another state, or a local agency.(c)\\xa0If none of the parties involved in an accident has reported the accident to the department under this section within one year following the date of the accident, the department is not required to file a report on the accident and the driver’s license suspension requirements of Section 16004 or 16070 do not apply.(d)\\xa0This section shall become operative on January 1, 2017.(Repealed (in Sec. 28) and added by Stats. 2015, Ch. 451, Sec. 29. (SB 491) Effective January 1, 2016. Section operative January 1,',\n",
       "   'metadata': {'id': 'FbroAGSJDApX92oxM5f_7w==_0',\n",
       "    'other': None,\n",
       "    'country': 'usa',\n",
       "    'province': 'CA',\n",
       "    'source_id': 'FbroAGSJDApX92oxM5f_7w==',\n",
       "    'instrument': 'legislation',\n",
       "    'section_id': 'FbroAGSJDApX92oxM5f_7w==',\n",
       "    'document_id': 'Oz7dwX_QD8BLlP3CDz4gUw==',\n",
       "    'jurisdiction': 'USA, California',\n",
       "    'section_title': 'Vehicle Code - VEHDIVISION 7 - FINANCIAL RESPONSIBILITY LAWSCHAPTER 1 - Compulsory Financial Responsibility ARTICLE 1 - Accident Reports Section 16000. Section 16000.',\n",
       "    'document_title': '2022 California Code',\n",
       "    'jurisdiction_id': 'J0205',\n",
       "    'section_citation': 'CA Veh Code § 16000 (2022)',\n",
       "    'document_citation': None,\n",
       "    'instrument_subtype': 'state_code'}},\n",
       "  {'page_content': '16002. (a)\\xa0If the driver at the time of the accident was driving a motor vehicle owned, operated, or leased by the employer of the driver and with the permission of the employer, then the driver shall within five days after the accident report the accident to his employer on a form approved by the employer. Within 10 days after receipt of the report the employer shall transmit a report on a form approved by the department to the office of the department at Sacramento, except that an employer need not transmit such report when the vehicle involved in the accident is owned or operated as described in Section 16051 or 16052, or is owned or operated by any person or corporation who has filed with the department a certificate of an insurance carrier or surety company that there is in effect a policy or bond meeting the requirements of Section 16056 and when such policy or bond is in force with respect to the vehicle at the time of the accident.(b)\\xa0The driver of a vehicle that is owned or operated by a publicly owned or operated transit system, or that is operated under contract with a publicly owned or operated transit system, and that is used to provide regularly scheduled transportation to the general public or for other official business of the system shall, within 10 days of the occurrence of the accident, report to the transit system any accident of a type otherwise required to be reported pursuant to subdivision (a) of Section 16000. The transit system shall maintain records of any report filed pursuant to this paragraph. Within 10 days after receipt of the report, the transit system shall transmit a report on a form approved by the department to the office of the department in Sacramento, except that a transit system is not required to submit a report',\n",
       "   'metadata': {'id': 'nQ6cIYGFjDwZbUnUvfIYgg==_0',\n",
       "    'other': None,\n",
       "    'country': 'usa',\n",
       "    'province': 'CA',\n",
       "    'source_id': 'nQ6cIYGFjDwZbUnUvfIYgg==',\n",
       "    'instrument': 'legislation',\n",
       "    'section_id': 'nQ6cIYGFjDwZbUnUvfIYgg==',\n",
       "    'document_id': 'Oz7dwX_QD8BLlP3CDz4gUw==',\n",
       "    'jurisdiction': 'USA, California',\n",
       "    'section_title': 'Vehicle Code - VEHDIVISION 7 - FINANCIAL RESPONSIBILITY LAWSCHAPTER 1 - Compulsory Financial Responsibility ARTICLE 1 - Accident Reports Section 16002. Section 16002.',\n",
       "    'document_title': '2022 California Code',\n",
       "    'jurisdiction_id': 'J0205',\n",
       "    'section_citation': 'CA Veh Code § 16002 (2022)',\n",
       "    'document_citation': None,\n",
       "    'instrument_subtype': 'state_code'}},\n",
       "  {'page_content': 'result in fines of up to $750 or 30 days in jail, or both, in addition to a one-year suspension of driving privileges.Under existing California law, if you are involved in an accident that results in damages of over $1,000 to the property of any person or in any injury or fatality, you must file a report of the accident with the Department of Motor Vehicles within 10 days of the accident. If you fail to file a report or fail to provide evidence of financial responsibility on the report, your driving privilege will be suspended for up to four years. Your suspension notice will notify you of the department’s action and of your right to a hearing. Your suspension notice will also inform you that if you request a hearing, it must be conducted within 30 days of your written request, and that a decision is to be rendered within 15 days of the conclusion of the hearing.”(b)\\xa0This section shall become operative on January 1, 2017.(Repealed (in Sec. 19) and added by Stats. 2015, Ch. 451, Sec. 20. (SB 491) Effective January 1, 2016. Section operative January 1, 2017, by its own provisions.)',\n",
       "   'metadata': {'id': 'TXBydW45jrsheBeHFnP9GA==_1',\n",
       "    'other': None,\n",
       "    'country': 'usa',\n",
       "    'province': 'CA',\n",
       "    'source_id': 'TXBydW45jrsheBeHFnP9GA==',\n",
       "    'instrument': 'legislation',\n",
       "    'section_id': 'TXBydW45jrsheBeHFnP9GA==',\n",
       "    'document_id': 'Oz7dwX_QD8BLlP3CDz4gUw==',\n",
       "    'jurisdiction': 'USA, California',\n",
       "    'section_title': 'Vehicle Code - VEHDIVISION 2 - ADMINISTRATIONCHAPTER 1 - The Department of Motor Vehicles ARTICLE 2 - Powers and Duties Section 1656.2. Section 1656.2.',\n",
       "    'document_title': '2022 California Code',\n",
       "    'jurisdiction_id': 'J0205',\n",
       "    'section_citation': 'CA Veh Code § 1656.2 (2022)',\n",
       "    'document_citation': None,\n",
       "    'instrument_subtype': 'state_code'}},\n",
       "  {'page_content': '20011. A coroner or medical examiner shall on or before the 10th day of each month report in writing to the Department of the California Highway Patrol the death of any person during the preceding calendar month as the result of an accident involving a motor vehicle and the circumstances of the accident. Chemical test results, including blood alcohol content and blood drug concentrations, shall be reported in writing when available.(Amended by Stats. 2022, Ch. 223, Sec. 2. (SB 925) Effective January 1, 2023.)',\n",
       "   'metadata': {'id': 'N6Bn3_X0hiXlZlw99_5Kug==_0',\n",
       "    'other': None,\n",
       "    'country': 'usa',\n",
       "    'province': 'CA',\n",
       "    'source_id': 'N6Bn3_X0hiXlZlw99_5Kug==',\n",
       "    'instrument': 'legislation',\n",
       "    'section_id': 'N6Bn3_X0hiXlZlw99_5Kug==',\n",
       "    'document_id': 'Oz7dwX_QD8BLlP3CDz4gUw==',\n",
       "    'jurisdiction': 'USA, California',\n",
       "    'section_title': 'Vehicle Code - VEHDIVISION 10 - ACCIDENTS AND ACCIDENT REPORTSCHAPTER 1 - Accidents and Accident Reports Section 20011. Section 20011.',\n",
       "    'document_title': '2022 California Code',\n",
       "    'jurisdiction_id': 'J0205',\n",
       "    'section_citation': 'CA Veh Code § 20011 (2022)',\n",
       "    'document_citation': None,\n",
       "    'instrument_subtype': 'state_code'}}]}"
      ]
     },
     "execution_count": 16,
     "metadata": {},
     "output_type": "execute_result"
    }
   ],
   "source": [
    "data = client.retrieve(\n",
    "    HelpMeFindLawRetrievalInput(\n",
    "        prompt=\"What is the statute of limitations for a car accident in California?\"\n",
    "    )\n",
    ")\n",
    "data"
   ]
  },
  {
   "cell_type": "markdown",
   "metadata": {},
   "source": [
    "## Completion Endpoint"
   ]
  },
  {
   "cell_type": "code",
   "execution_count": 17,
   "metadata": {},
   "outputs": [
    {
     "data": {
      "text/plain": [
       "{'prompt': 'What is the penalty for drink driving in Orlando?',\n",
       " 'completion': 'The penalty for drink driving in Orlando, Florida is as follows:\\n- For a first conviction, a fine of not less than $500 or more than $1,000, and imprisonment for not more than 6 months.\\n- For a second conviction, a fine of not less than $1,000 or more than $2,000, and imprisonment for not more than 9 months. Additionally, there is mandatory placement of an ignition interlock device for at least 1 year.\\n- For a third conviction within 10 years of a prior conviction, it is considered a felony of the third degree, punishable by imprisonment as provided by law. There is also mandatory placement of an ignition interlock device for at least 2 years.\\n\\n',\n",
       " 'sources': [{'source_id': 'sQ1QSRwEYLge1Y-IPKpRAg==',\n",
       "   'ids': ['sQ1QSRwEYLge1Y-IPKpRAg==_0',\n",
       "    'sQ1QSRwEYLge1Y-IPKpRAg==_5',\n",
       "    'sQ1QSRwEYLge1Y-IPKpRAg==_1',\n",
       "    'sQ1QSRwEYLge1Y-IPKpRAg==_2',\n",
       "    'sQ1QSRwEYLge1Y-IPKpRAg==_3',\n",
       "    'sQ1QSRwEYLge1Y-IPKpRAg==_4',\n",
       "    'sQ1QSRwEYLge1Y-IPKpRAg==_9',\n",
       "    'sQ1QSRwEYLge1Y-IPKpRAg==_6',\n",
       "    'sQ1QSRwEYLge1Y-IPKpRAg==_7',\n",
       "    'sQ1QSRwEYLge1Y-IPKpRAg==_8',\n",
       "    'sQ1QSRwEYLge1Y-IPKpRAg==_10',\n",
       "    'sQ1QSRwEYLge1Y-IPKpRAg==_12',\n",
       "    'sQ1QSRwEYLge1Y-IPKpRAg==_13',\n",
       "    'sQ1QSRwEYLge1Y-IPKpRAg==_11',\n",
       "    'sQ1QSRwEYLge1Y-IPKpRAg==_14',\n",
       "    'sQ1QSRwEYLge1Y-IPKpRAg==_15',\n",
       "    'sQ1QSRwEYLge1Y-IPKpRAg==_16',\n",
       "    'sQ1QSRwEYLge1Y-IPKpRAg==_17',\n",
       "    'sQ1QSRwEYLge1Y-IPKpRAg==_18',\n",
       "    'sQ1QSRwEYLge1Y-IPKpRAg==_19',\n",
       "    'sQ1QSRwEYLge1Y-IPKpRAg==_20',\n",
       "    'sQ1QSRwEYLge1Y-IPKpRAg==_21',\n",
       "    'sQ1QSRwEYLge1Y-IPKpRAg==_22',\n",
       "    'sQ1QSRwEYLge1Y-IPKpRAg==_23',\n",
       "    'sQ1QSRwEYLge1Y-IPKpRAg==_24',\n",
       "    'sQ1QSRwEYLge1Y-IPKpRAg==_25'],\n",
       "   'reference': None,\n",
       "   'metadata': {'document_id': '3yH-k6E_Th5KpyN8CTQnxA==',\n",
       "    'document_title': '2022 Florida Statutes',\n",
       "    'document_citation': None,\n",
       "    'section_id': 'sQ1QSRwEYLge1Y-IPKpRAg==',\n",
       "    'section_title': 'Title XXIII - Motor Vehicles Chapter 316 - State Uniform Traffic Control316.193 - Driving Under the Influence; Penalties. Chapter 316 - State Uniform Traffic Control316.193 - Driving Under the Influence; Penalties.',\n",
       "    'section_citation': 'FL Stat § 316.193 (2022)',\n",
       "    'instrument': 'legislation',\n",
       "    'instrument_subtype': 'state_code',\n",
       "    'jurisdiction_id': 'J0209',\n",
       "    'jurisdiction': 'USA, Florida',\n",
       "    'country': 'usa',\n",
       "    'province': 'FL',\n",
       "    'other': None,\n",
       "    'created_at': None,\n",
       "    'source_id': 'sQ1QSRwEYLge1Y-IPKpRAg==',\n",
       "    'id': 'sQ1QSRwEYLge1Y-IPKpRAg==_0',\n",
       "    'document_html_url': 'https://law.justia.com/codes/florida/2022',\n",
       "    'document_pdf_url': None,\n",
       "    'section_html_url': 'https://law.justia.com/codes/florida/2022/title-xxiii/chapter-316/section-316-193/',\n",
       "    'section_pdf_url': None}}]}"
      ]
     },
     "execution_count": 17,
     "metadata": {},
     "output_type": "execute_result"
    }
   ],
   "source": [
    "data = client.completion(\n",
    "    HelpMeFindLawCompletionInput(\n",
    "        prompt=\"What is the penalty for drink driving in Orlando?\"\n",
    "    )\n",
    ")\n",
    "data"
   ]
  }
 ],
 "metadata": {
  "kernelspec": {
   "display_name": "Python 3",
   "language": "python",
   "name": "python3"
  },
  "language_info": {
   "codemirror_mode": {
    "name": "ipython",
    "version": 3
   },
   "file_extension": ".py",
   "mimetype": "text/x-python",
   "name": "python",
   "nbconvert_exporter": "python",
   "pygments_lexer": "ipython3",
   "version": "3.11.3"
  },
  "orig_nbformat": 4
 },
 "nbformat": 4,
 "nbformat_minor": 2
}
